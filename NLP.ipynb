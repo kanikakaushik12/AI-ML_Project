{
  "cells": [
    {
      "cell_type": "markdown",
      "metadata": {
        "id": "view-in-github",
        "colab_type": "text"
      },
      "source": [
        "<a href=\"https://colab.research.google.com/github/kanikakaushik12/AI-ML_Project/blob/main/NLP.ipynb\" target=\"_parent\"><img src=\"https://colab.research.google.com/assets/colab-badge.svg\" alt=\"Open In Colab\"/></a>"
      ]
    },
    {
      "cell_type": "code",
      "execution_count": 1,
      "metadata": {
        "id": "GLuEn1e64p8n"
      },
      "outputs": [],
      "source": [
        "import os\n",
        "import pandas as pd\n",
        "import  tensorflow as tf\n",
        "import numpy as np\n",
        "import matplotlib.pyplot as plt\n",
        "%matplotlib inline\n",
        "import seaborn as sns\n",
        "import plotly.express as px\n",
        "import plotly.figure_factory as ff\n",
        "\n",
        "from plotly import graph_objects as go\n",
        "from tqdm import tqdm\n",
        "from sklearn.model_selection import train_test_split\n",
        "from keras.models import Sequential\n",
        "from keras.layers  import LSTM, GRU, SimpleRNN\n",
        "from keras.layers import Dense, Activation, Dropout\n",
        "from keras.layers import Embedding\n",
        "from keras.preprocessing import sequence, text\n",
        "from keras.utils import to_categorical\n",
        "from keras.layers import BatchNormalization\n",
        "from sklearn import preprocessing, decomposition, model_selection, metrics, pipeline\n",
        "from keras.layers import GlobalMaxPooling1D, Conv1D, MaxPooling1D, Flatten, Bidirectional, SpatialDropout1D\n",
        "from keras.callbacks import EarlyStopping\n",
        "\n",
        "import nltk\n",
        "import re"
      ]
    },
    {
      "cell_type": "code",
      "execution_count": 1,
      "metadata": {
        "id": "eqBf2v5SukVs"
      },
      "outputs": [],
      "source": []
    },
    {
      "cell_type": "code",
      "execution_count": 2,
      "metadata": {
        "colab": {
          "base_uri": "https://localhost:8080/"
        },
        "id": "isGaV-xxHFEH",
        "outputId": "32408fed-fb8e-4141-a9b2-9d5f5d6f1d41"
      },
      "outputs": [
        {
          "output_type": "stream",
          "name": "stdout",
          "text": [
            "REPLICAS: 1\n"
          ]
        }
      ],
      "source": [
        "try:\n",
        "  tpu = tf.distribute.cluster_resolver.TPUClusterResolver()\n",
        "  print('Running on TPU', tpu.master())\n",
        "except ValueError:\n",
        "  tpu = None\n",
        "\n",
        "if tpu:\n",
        "  tf.config.experimental_connect_to_cluster(tpu)\n",
        "  tf.tpu.experimental.iniitialized_tpu_system(tpu)\n",
        "  strategy = tf.distribute.experimental.TPUStrategy(tpu)\n",
        "else:\n",
        "  strategy = tf.distribute.get_strategy()\n",
        "\n",
        "print(\"REPLICAS:\", strategy.num_replicas_in_sync)\n",
        "\n"
      ]
    },
    {
      "cell_type": "code",
      "execution_count": 3,
      "metadata": {
        "id": "l1_ZVWO9QXpw"
      },
      "outputs": [],
      "source": [
        "train = pd.read_csv('/content/drive/MyDrive/Colab Notebooks/nlp_dataset/jigsaw-toxic-comment-train.csv')\n",
        "validation = pd.read_csv('/content/drive/MyDrive/Colab Notebooks/validation.csv')\n",
        "test = pd.read_csv('/content/drive/MyDrive/Colab Notebooks/nlp_dataset/test.csv')\n"
      ]
    },
    {
      "cell_type": "code",
      "execution_count": 4,
      "metadata": {
        "id": "AsLOnmrTTtJ3"
      },
      "outputs": [],
      "source": [
        "train.drop(['severe_toxic','obscene','threat','insult','identity_hate'],axis=1,inplace=True)\n"
      ]
    },
    {
      "cell_type": "code",
      "execution_count": 5,
      "metadata": {
        "colab": {
          "base_uri": "https://localhost:8080/"
        },
        "id": "AFEiKvzrWwxy",
        "outputId": "e8e032fd-6df9-49dd-a9d7-95b51c45a0df"
      },
      "outputs": [
        {
          "output_type": "execute_result",
          "data": {
            "text/plain": [
              "(12001, 3)"
            ]
          },
          "metadata": {},
          "execution_count": 5
        }
      ],
      "source": [
        "train = train.loc[:12000,:]\n",
        "train.shape"
      ]
    },
    {
      "cell_type": "code",
      "execution_count": 6,
      "metadata": {
        "colab": {
          "base_uri": "https://localhost:8080/"
        },
        "id": "Ta_RsHXdW5PB",
        "outputId": "1ab2194e-4529-4bc7-9f2b-63c5a71fece8"
      },
      "outputs": [
        {
          "output_type": "execute_result",
          "data": {
            "text/plain": [
              "1403"
            ]
          },
          "metadata": {},
          "execution_count": 6
        }
      ],
      "source": [
        "train['comment_text'].apply(lambda x:len(str(x).split())).max()"
      ]
    },
    {
      "cell_type": "code",
      "execution_count": 7,
      "metadata": {
        "id": "3RkpuilzYg5s"
      },
      "outputs": [],
      "source": [
        "def roc_auc(predictions, target):\n",
        "\n",
        "  fpr, tpr, thresholds = metrics.roc_curve(target, predictions)\n",
        "  roc_auc = metrics.auc(fpr, tpr)\n",
        "  return roc_auc"
      ]
    },
    {
      "cell_type": "code",
      "execution_count": 8,
      "metadata": {
        "id": "BAj1hfe0YuXu"
      },
      "outputs": [],
      "source": [
        "xtrain,xvalid,ytrain,yvalid= train_test_split(train.comment_text.values, train.toxic.values,stratify=train.toxic.values,random_state=42,test_size=0.2,shuffle=True)"
      ]
    },
    {
      "cell_type": "code",
      "execution_count": 9,
      "metadata": {
        "id": "wRk1ZBlyZUq_"
      },
      "outputs": [],
      "source": [
        "token = text.Tokenizer(num_words=None)\n",
        "max_len = 1500\n",
        "token.fit_on_texts(list(xtrain)+list(xvalid))\n",
        "xtrain_seq = token.texts_to_sequences(xtrain)\n",
        "xvalid_seq = token.texts_to_sequences(xvalid)\n",
        "xtrain_pad = sequence.pad_sequences(xtrain_seq,maxlen=max_len)\n",
        "xvalid_pad = sequence.pad_sequences(xvalid_seq,maxlen=max_len)\n",
        "word_index = token.word_index\n"
      ]
    },
    {
      "cell_type": "code",
      "execution_count": 10,
      "metadata": {
        "colab": {
          "base_uri": "https://localhost:8080/"
        },
        "id": "Wx4SPiGFZ5dF",
        "outputId": "fd449e59-de7f-4216-e4fc-5768b73156c0"
      },
      "outputs": [
        {
          "output_type": "stream",
          "name": "stdout",
          "text": [
            "Model: \"sequential\"\n",
            "_________________________________________________________________\n",
            " Layer (type)                Output Shape              Param #   \n",
            "=================================================================\n",
            " embedding (Embedding)       (None, 1500, 300)         13049100  \n",
            "                                                                 \n",
            " simple_rnn (SimpleRNN)      (None, 100)               40100     \n",
            "                                                                 \n",
            " dense (Dense)               (None, 1)                 101       \n",
            "                                                                 \n",
            "=================================================================\n",
            "Total params: 13089301 (49.93 MB)\n",
            "Trainable params: 13089301 (49.93 MB)\n",
            "Non-trainable params: 0 (0.00 Byte)\n",
            "_________________________________________________________________\n",
            "CPU times: user 491 ms, sys: 142 ms, total: 633 ms\n",
            "Wall time: 905 ms\n"
          ]
        }
      ],
      "source": [
        "%%time\n",
        "with strategy.scope():\n",
        "  model= Sequential()\n",
        "  model.add(Embedding(len(word_index)+1,300,input_length=max_len))\n",
        "  model.add(SimpleRNN(100))\n",
        "  model.add(Dense(1,activation='sigmoid'))\n",
        "  model.compile(loss='binary_crossentropy',optimizer='adam',metrics=['accuracy'])\n",
        "model.summary()\n"
      ]
    },
    {
      "cell_type": "code",
      "execution_count": 11,
      "metadata": {
        "colab": {
          "base_uri": "https://localhost:8080/"
        },
        "id": "sbf9PsZ_bERX",
        "outputId": "5c7d8a27-6f64-4f6a-80da-13831b5f8fc4"
      },
      "outputs": [
        {
          "output_type": "stream",
          "name": "stdout",
          "text": [
            "Epoch 1/5\n",
            "150/150 [==============================] - 379s 2s/step - loss: 0.3070 - accuracy: 0.9020\n",
            "Epoch 2/5\n",
            "150/150 [==============================] - 335s 2s/step - loss: 0.1784 - accuracy: 0.9318\n",
            "Epoch 3/5\n",
            "150/150 [==============================] - 340s 2s/step - loss: 0.0415 - accuracy: 0.9872\n",
            "Epoch 4/5\n",
            "150/150 [==============================] - 337s 2s/step - loss: 0.0060 - accuracy: 0.9993\n",
            "Epoch 5/5\n",
            "150/150 [==============================] - 341s 2s/step - loss: 0.0018 - accuracy: 1.0000\n"
          ]
        },
        {
          "output_type": "execute_result",
          "data": {
            "text/plain": [
              "<keras.src.callbacks.History at 0x7ade1e4bf8b0>"
            ]
          },
          "metadata": {},
          "execution_count": 11
        }
      ],
      "source": [
        "model.fit(xtrain_pad, ytrain, epochs=5, batch_size=64*strategy.num_replicas_in_sync)"
      ]
    },
    {
      "cell_type": "code",
      "execution_count": 12,
      "metadata": {
        "colab": {
          "base_uri": "https://localhost:8080/"
        },
        "id": "ZQ91dwxAg9-C",
        "outputId": "e0a11370-838c-41cb-8cde-b54074ab1d97"
      },
      "outputs": [
        {
          "output_type": "stream",
          "name": "stdout",
          "text": [
            "76/76 [==============================] - 16s 204ms/step\n",
            "Auc: 0.84%\n"
          ]
        }
      ],
      "source": [
        "scores = model.predict(xvalid_pad)\n",
        "print(\"Auc: %.2f%%\" % (roc_auc(scores,yvalid)))"
      ]
    },
    {
      "cell_type": "code",
      "execution_count": 13,
      "metadata": {
        "id": "EOW2vqnokqQO"
      },
      "outputs": [],
      "source": [
        "scores_model =[]\n",
        "scores_model.append({'Model': 'SimpleRNN','AUC_Score':roc_auc(scores,yvalid)})"
      ]
    },
    {
      "cell_type": "code",
      "execution_count": 14,
      "metadata": {
        "colab": {
          "base_uri": "https://localhost:8080/"
        },
        "id": "9mNcL1UKlGgZ",
        "outputId": "51a78e35-0a37-42ad-bd47-1bccf2c9d137"
      },
      "outputs": [
        {
          "output_type": "execute_result",
          "data": {
            "text/plain": [
              "[[664,\n",
              "  65,\n",
              "  7,\n",
              "  19,\n",
              "  2262,\n",
              "  14102,\n",
              "  5,\n",
              "  2262,\n",
              "  20439,\n",
              "  6071,\n",
              "  4,\n",
              "  71,\n",
              "  32,\n",
              "  20440,\n",
              "  6620,\n",
              "  39,\n",
              "  6,\n",
              "  664,\n",
              "  65,\n",
              "  11,\n",
              "  8,\n",
              "  20441,\n",
              "  1502,\n",
              "  38,\n",
              "  6072]]"
            ]
          },
          "metadata": {},
          "execution_count": 14
        }
      ],
      "source": [
        "xtrain_seq[:1]"
      ]
    },
    {
      "cell_type": "code",
      "execution_count": 15,
      "metadata": {
        "colab": {
          "base_uri": "https://localhost:8080/"
        },
        "id": "nV2SZCpq5niP",
        "outputId": "dd2dcf66-d19c-47f1-f0d9-2680e35536a2",
        "collapsed": true
      },
      "outputs": [
        {
          "output_type": "stream",
          "name": "stdout",
          "text": [
            "File not found. Please check the path.\n"
          ]
        }
      ],
      "source": [
        "import numpy as np\n",
        "from tqdm import tqdm\n",
        "\n",
        "# Correct file path\n",
        "glove_file_path = r'C:\\glove_file.csv'\n",
        "\n",
        "# Initialize the embeddings index dictionary\n",
        "embeddings_index = {}\n",
        "\n",
        "# Open the GloVe file in read mode with UTF-8 encoding\n",
        "try:\n",
        "    with open(glove_file_path, 'r', encoding='utf-8') as f:\n",
        "        for line in tqdm(f, desc=\"Reading GloVe file\"):\n",
        "            values = line.split()\n",
        "            word = values[0]\n",
        "            coefs = np.asarray(values[1:], dtype='float32')\n",
        "            embeddings_index[word] = coefs\n",
        "    print('Found %s word vectors.' % len(embeddings_index))\n",
        "except FileNotFoundError:\n",
        "    print(\"File not found. Please check the path.\")\n",
        "\n"
      ]
    },
    {
      "cell_type": "code",
      "execution_count": 16,
      "metadata": {
        "colab": {
          "base_uri": "https://localhost:8080/"
        },
        "id": "xPbiuNe-nk2k",
        "outputId": "d4580100-cfa5-4a9d-e6eb-e7945888b15f"
      },
      "outputs": [
        {
          "output_type": "stream",
          "name": "stderr",
          "text": [
            "100%|██████████| 43496/43496 [00:00<00:00, 906926.13it/s]\n"
          ]
        }
      ],
      "source": [
        "embedding_matrix = np.zeros((len(word_index)+1,300))\n",
        "for word,i in tqdm(word_index.items()):\n",
        "  embedding_vector = embeddings_index.get(word)\n",
        "  if embedding_vector is not None:\n",
        "    embedding_matrix[i] = embedding_vector"
      ]
    },
    {
      "cell_type": "code",
      "execution_count": 17,
      "metadata": {
        "colab": {
          "base_uri": "https://localhost:8080/"
        },
        "id": "gxmXnaKHoB-q",
        "outputId": "1d6ff1d4-15df-4d70-91d5-55e989945df4"
      },
      "outputs": [
        {
          "output_type": "stream",
          "name": "stdout",
          "text": [
            "Model: \"sequential_1\"\n",
            "_________________________________________________________________\n",
            " Layer (type)                Output Shape              Param #   \n",
            "=================================================================\n",
            " embedding_1 (Embedding)     (None, 1500, 300)         13049100  \n",
            "                                                                 \n",
            " lstm (LSTM)                 (None, 100)               160400    \n",
            "                                                                 \n",
            " dense_1 (Dense)             (None, 1)                 101       \n",
            "                                                                 \n",
            "=================================================================\n",
            "Total params: 13209601 (50.39 MB)\n",
            "Trainable params: 160501 (626.96 KB)\n",
            "Non-trainable params: 13049100 (49.78 MB)\n",
            "_________________________________________________________________\n",
            "CPU times: user 477 ms, sys: 297 ms, total: 773 ms\n",
            "Wall time: 764 ms\n"
          ]
        }
      ],
      "source": [
        "%%time\n",
        "with strategy.scope():\n",
        "  model = Sequential()\n",
        "  model.add(Embedding(len(word_index)+1,300,weights=[embedding_matrix],input_length=max_len,trainable=False))\n",
        "  model.add(LSTM(100,dropout=0.3,recurrent_dropout=0.3))\n",
        "  model.add(Dense(1,activation='sigmoid'))\n",
        "  model.compile(loss='binary_crossentropy',optimizer='adam',metrics=['accuracy'])\n",
        "model.summary()"
      ]
    },
    {
      "cell_type": "code",
      "execution_count": 18,
      "metadata": {
        "colab": {
          "base_uri": "https://localhost:8080/"
        },
        "id": "BTJ8T514ocnD",
        "outputId": "03a2e286-80fe-4712-d29e-a601a9173905"
      },
      "outputs": [
        {
          "output_type": "stream",
          "name": "stdout",
          "text": [
            "Epoch 1/5\n",
            "150/150 [==============================] - 1049s 7s/step - loss: 0.3411 - accuracy: 0.9053\n",
            "Epoch 2/5\n",
            "150/150 [==============================] - 1030s 7s/step - loss: 0.3146 - accuracy: 0.9053\n",
            "Epoch 3/5\n",
            "150/150 [==============================] - 1024s 7s/step - loss: 0.3145 - accuracy: 0.9053\n",
            "Epoch 4/5\n",
            "150/150 [==============================] - 1026s 7s/step - loss: 0.3139 - accuracy: 0.9053\n",
            "Epoch 5/5\n",
            "150/150 [==============================] - 1036s 7s/step - loss: 0.3148 - accuracy: 0.9053\n"
          ]
        },
        {
          "output_type": "execute_result",
          "data": {
            "text/plain": [
              "<keras.src.callbacks.History at 0x7ade11204730>"
            ]
          },
          "metadata": {},
          "execution_count": 18
        }
      ],
      "source": [
        "model.fit(xtrain_pad,ytrain,epochs=5,batch_size=64*strategy.num_replicas_in_sync)"
      ]
    },
    {
      "cell_type": "code",
      "execution_count": 19,
      "metadata": {
        "colab": {
          "base_uri": "https://localhost:8080/"
        },
        "id": "uZXYhCYeojgs",
        "outputId": "cc06b98f-aa66-406c-99ed-f5fb3a69c5d8"
      },
      "outputs": [
        {
          "output_type": "stream",
          "name": "stdout",
          "text": [
            "76/76 [==============================] - 54s 705ms/step\n",
            "AUC: 0.48%\n"
          ]
        }
      ],
      "source": [
        "scores = model.predict(xvalid_pad)\n",
        "print(\"AUC: %.2f%%\" % (roc_auc(scores,yvalid)))"
      ]
    },
    {
      "cell_type": "code",
      "execution_count": null,
      "metadata": {
        "id": "WAx3f2ICo12r"
      },
      "outputs": [],
      "source": [
        "scores_model.append({'Model': 'LSTM','AUC_Score':roc_auc(scores,yvalid)})"
      ]
    },
    {
      "cell_type": "code",
      "execution_count": 21,
      "metadata": {
        "colab": {
          "base_uri": "https://localhost:8080/"
        },
        "id": "PDgzHUv-o8Og",
        "outputId": "1fb8b504-4585-4f36-d5ec-e373d7548ad0"
      },
      "outputs": [
        {
          "output_type": "stream",
          "name": "stdout",
          "text": [
            "Model: \"sequential_2\"\n",
            "_________________________________________________________________\n",
            " Layer (type)                Output Shape              Param #   \n",
            "=================================================================\n",
            " embedding_2 (Embedding)     (None, 1500, 300)         13049100  \n",
            "                                                                 \n",
            " spatial_dropout1d (Spatial  (None, 1500, 300)         0         \n",
            " Dropout1D)                                                      \n",
            "                                                                 \n",
            " gru (GRU)                   (None, 300)               541800    \n",
            "                                                                 \n",
            " dense_2 (Dense)             (None, 1)                 301       \n",
            "                                                                 \n",
            "=================================================================\n",
            "Total params: 13591201 (51.85 MB)\n",
            "Trainable params: 542101 (2.07 MB)\n",
            "Non-trainable params: 13049100 (49.78 MB)\n",
            "_________________________________________________________________\n",
            "CPU times: user 559 ms, sys: 255 ms, total: 814 ms\n",
            "Wall time: 690 ms\n"
          ]
        }
      ],
      "source": [
        "%%time\n",
        "with strategy.scope():\n",
        "  model = Sequential()\n",
        "  model.add(Embedding(len(word_index)+1,300,weights=[embedding_matrix],input_length=max_len,trainable=False))\n",
        "  model.add(SpatialDropout1D(0.3))\n",
        "  model.add(GRU(300))\n",
        "  model.add(Dense(1,activation='sigmoid'))\n",
        "  model.compile(loss='binary_crossentropy',optimizer='adam',metrics=['accuracy'])\n",
        "model.summary()"
      ]
    },
    {
      "cell_type": "code",
      "execution_count": 25,
      "metadata": {
        "id": "YVbKzQ8OpVOg",
        "collapsed": true
      },
      "outputs": [],
      "source": [
        "#model.fit(X_train, y_train, epochs=5, batch_size=64*strategy.num_replicas_in_sync)\n",
        "\n",
        "model.fit(xtrain_pad,ytrain,epochs=5,batch_size=64*strategy.num_replicas_in_sync)"
      ]
    },
    {
      "cell_type": "code",
      "execution_count": 23,
      "metadata": {
        "colab": {
          "base_uri": "https://localhost:8080/"
        },
        "id": "EEOVD2PcptPt",
        "outputId": "502e1a37-66af-4681-a2e1-49e9c57c9205"
      },
      "outputs": [
        {
          "output_type": "stream",
          "name": "stdout",
          "text": [
            "76/76 [==============================] - 162s 2s/step\n",
            "AUC: 0.50%\n"
          ]
        }
      ],
      "source": [
        "scores = model.predict(xvalid_pad)\n",
        "print(\"AUC: %.2f%%\" % (roc_auc(scores,yvalid)))"
      ]
    },
    {
      "cell_type": "code",
      "execution_count": 26,
      "metadata": {
        "id": "BnxaVOmTp1cW"
      },
      "outputs": [],
      "source": [
        "scores_model.append({'Model':'GRU','AUC_Score':roc_auc(scores,yvalid)})"
      ]
    },
    {
      "cell_type": "code",
      "execution_count": 27,
      "metadata": {
        "colab": {
          "base_uri": "https://localhost:8080/"
        },
        "id": "38LymXhYqJft",
        "outputId": "2135dcf1-9e5c-4765-caef-1f748da6da55"
      },
      "outputs": [
        {
          "output_type": "execute_result",
          "data": {
            "text/plain": [
              "[{'Model': 'SimpleRNN', 'AUC_Score': 0.8368990350518138},\n",
              " {'Model': 'LSTM', 'AUC_Score': 0.4822998269496533},\n",
              " {'Model': 'GRU', 'AUC_Score': 0.5}]"
            ]
          },
          "metadata": {},
          "execution_count": 27
        }
      ],
      "source": [
        "scores_model"
      ]
    },
    {
      "cell_type": "code",
      "execution_count": 32,
      "metadata": {
        "colab": {
          "base_uri": "https://localhost:8080/"
        },
        "id": "LKiNV71hqNSx",
        "outputId": "b8f33de9-84de-4387-9f15-b9cca37f4fdf"
      },
      "outputs": [
        {
          "output_type": "stream",
          "name": "stdout",
          "text": [
            "Model: \"sequential_6\"\n",
            "_________________________________________________________________\n",
            " Layer (type)                Output Shape              Param #   \n",
            "=================================================================\n",
            " embedding_6 (Embedding)     (None, 1500, 300)         13049100  \n",
            "                                                                 \n",
            " bidirectional_1 (Bidirecti  (None, 600)               1442400   \n",
            " onal)                                                           \n",
            "                                                                 \n",
            " dense_3 (Dense)             (None, 1)                 601       \n",
            "                                                                 \n",
            "=================================================================\n",
            "Total params: 14492101 (55.28 MB)\n",
            "Trainable params: 1443001 (5.50 MB)\n",
            "Non-trainable params: 13049100 (49.78 MB)\n",
            "_________________________________________________________________\n",
            "CPU times: user 822 ms, sys: 285 ms, total: 1.11 s\n",
            "Wall time: 1.14 s\n"
          ]
        }
      ],
      "source": [
        "\n",
        "%%time\n",
        "with strategy.scope():\n",
        "  model = Sequential()\n",
        "  model.add(Embedding(len(word_index)+1,300,weights=[embedding_matrix],input_length=max_len,trainable=False))\n",
        "  model.add(Bidirectional(LSTM(300, dropout =0.3 ,recurrent_dropout=0.3)))\n",
        "  model.add(Dense(1,activation='sigmoid'))\n",
        "  model.compile(loss='binary_crossentropy',optimizer='adam',metrics=['accuracy'])\n",
        "model.summary()"
      ]
    },
    {
      "cell_type": "code",
      "execution_count": null,
      "metadata": {
        "id": "SNEgRn92rC6H"
      },
      "outputs": [],
      "source": [
        "\n",
        "model.fit(xtrain_pad,ytrain,epochs=5,batch_size=64*strategy.num_replicas_in_sync)"
      ]
    },
    {
      "cell_type": "code",
      "execution_count": 34,
      "metadata": {
        "colab": {
          "base_uri": "https://localhost:8080/"
        },
        "id": "aj2prnglrYA6",
        "outputId": "50a82209-ff76-4aa9-fb43-d6ff6dcb23f7"
      },
      "outputs": [
        {
          "output_type": "stream",
          "name": "stdout",
          "text": [
            "76/76 [==============================] - 616s 8s/step\n",
            "AUC: 0.50%\n"
          ]
        }
      ],
      "source": [
        "scores = model.predict(xvalid_pad)\n",
        "print(\"AUC: %.2f%%\" % (roc_auc(scores,yvalid)))"
      ]
    },
    {
      "cell_type": "code",
      "execution_count": 9,
      "metadata": {
        "id": "vr7w33ByrgBG"
      },
      "outputs": [],
      "source": [
        "scores_model.append({'Model':'Bidirectional LSTM','AUC_Score':roc_auc(scores,yvalid)})"
      ]
    },
    {
      "cell_type": "code",
      "execution_count": 10,
      "metadata": {
        "id": "34BGodpIqNdL"
      },
      "outputs": [],
      "source": [
        "import pandas as pd\n",
        "result = pd.DataFrame(scores_model).sort_values(by='AUC_Score',ascending=False)\n",
        "results.style.background_gradient(cmap='Purples')"
      ]
    },
    {
      "cell_type": "code",
      "execution_count": null,
      "metadata": {
        "id": "UbANvqQszxpt"
      },
      "outputs": [],
      "source": [
        "fig = go.Figure(go.Funnelarea(text =results.Model,values =result.AUC_Score,title={\"position\":\"top center\",\"text\":\"Funnel-Chart of sentiment Distribution\"}))\n",
        "\n",
        "fig.show()"
      ]
    },
    {
      "cell_type": "code",
      "execution_count": null,
      "metadata": {
        "id": "xKyowW05zxwJ"
      },
      "outputs": [],
      "source": [
        "import os\n",
        "import tensorflow as tf\n",
        "from tensorflow.keras.layers import Dense, Input\n",
        "from tensorflow.keras.optimizers import Adam\n",
        "from tensorflow.keras.models import Model\n",
        "from tensorflow.keras.callbacks import ModelCheckpoint\n",
        "\n",
        "import transformers\n",
        "from transformers import AutoTokenizer\n",
        "from tqdm.notebook import tqdm\n",
        "from tokenizers import Tokenizer, models, pre_tokenizers, decoders, processors"
      ]
    },
    {
      "cell_type": "code",
      "execution_count": null,
      "metadata": {
        "id": "lBUmvWsIzx4x"
      },
      "outputs": [],
      "source": [
        "import pandas as pd\n",
        "\n",
        "train1 = pd.read_csv(r'/content/drive/MyDrive/Colab Notebooks/nlp_dataset/jigsaw-toxic-comment-train.csv')\n",
        "valid = pd.read_csv(r'/content/drive/MyDrive/Colab Notebooks/validation.csv')\n",
        "test = pd.read_csv(r'/content/drive/MyDrive/Colab Notebooks/nlp_dataset/test.csv')\n",
        "sub = pd.read_csv(r'/content/drive/MyDrive/Colab Notebooks/nlp_dataset/sample_submission.csv')"
      ]
    },
    {
      "cell_type": "code",
      "execution_count": null,
      "metadata": {
        "id": "zsQNMFLm3qZh"
      },
      "outputs": [],
      "source": [
        "def fast_encode(texts, tokenizer, chunk_size=256, maxlen=512):\n",
        "    tokenizer.enable_truncation(max_length=maxlen)\n",
        "    tokenizer.enable_padding(max_length=maxlen)\n",
        "    all_ids = []\n",
        "\n",
        "    for i in tqdm(range(0, len(texts), chunk_size)):\n",
        "        text_chunk = texts[i:i+chunk_size].tolist()\n",
        "        encs = tokenizer.encode_batch(text_chunk)\n",
        "        all_ids.extend([enc.ids for enc in encs])\n",
        "    return np.array(all_ids)"
      ]
    },
    {
      "cell_type": "code",
      "execution_count": null,
      "metadata": {
        "id": "BWM8jSeN3qwD"
      },
      "outputs": [],
      "source": [
        "AUTO = tf.data.experimental.AUTOTUNE\n",
        "\n",
        "# Configuration\n",
        "EPOCHS = 3\n",
        "BATCH_SIZE = 16 * strategy.num_replicas_in_sync\n",
        "MAX_LEN = 192\n"
      ]
    },
    {
      "cell_type": "code",
      "execution_count": null,
      "metadata": {
        "id": "4V6DXc3i3rCZ"
      },
      "outputs": [],
      "source": [
        "tokenizer = transformers.DistilBertTokenizer.from_pretrained('distilbert-base-multilingual-cased')\n",
        "tokenizer.save_pretrained('.')\n",
        "fast_tokenizer = BertWordPieceTokenizer('vocab.txt', lowercase=False)\n",
        "fast_tokenizer"
      ]
    },
    {
      "cell_type": "code",
      "execution_count": null,
      "metadata": {
        "id": "jUtkqtPS5stU"
      },
      "outputs": [],
      "source": [
        "x_x_train = fast_enode(train1.comment_text.astype(str), fast_tokenizer, maxlen=MAX_LEN)\n",
        "x_valid = fast_encode(valid.comment_text.astype(str), fast_tokenizer, maxlen=MAX_LEN)\n",
        "x_test = fast_encode(test.content.astype(str), fast_tokenizer, maxlen=MAX_LEN)\n",
        "y_train = train1.toxic.values\n",
        "y_valid = valid.toxic.values"
      ]
    },
    {
      "cell_type": "code",
      "execution_count": null,
      "metadata": {
        "id": "V8wDs_ZD6U_v"
      },
      "outputs": [],
      "source": [
        "train_dataset = (\n",
        "    tf.data.Dataset\n",
        "    .from_tensor_slices((x_train, y_train))\n",
        "    .repeat()\n",
        "    .shuffle(2048)\n",
        "    .batch(BATCH_SIZE)\n",
        "    .prefetch(AUTO)\n",
        ")\n",
        "valid_dataset = (\n",
        "    tf.data.Dataset\n",
        "    .from_tensor_slices((x_valid, y_valid))\n",
        "    .batch(BATCH_SIZE)\n",
        "    .cache()\n",
        "    .prefetch(AUTO)\n",
        ")\n",
        "test_dataset = (\n",
        "    tf.data.Dataset\n",
        "    .from_tensor_slices(x_test)\n",
        "    .batch(BATCH_SIZE)\n",
        ")"
      ]
    },
    {
      "cell_type": "code",
      "execution_count": null,
      "metadata": {
        "id": "Q-5OYXGr6g12"
      },
      "outputs": [],
      "source": [
        "def build_model(transformer, max_len=512):\n",
        "    input_word_ids = Input(shape=(max_len,), dtype=tf.int32, name=\"input_word_ids\")\n",
        "    sequence_output = transformer(input_word_ids)[0]\n",
        "    cls_token = sequence_output[:, 0, :]\n",
        "    out = Dense(1, activation='sigmoid')(cls_token)\n",
        "\n",
        "    model = Model(inputs=input_word_ids ,outputs=out)\n",
        "    model.compile(Adam(lr=1e-5), loss='binary_crossentropy', metrics=['accuracy'])\n",
        "    return model"
      ]
    },
    {
      "cell_type": "code",
      "execution_count": null,
      "metadata": {
        "id": "W9M7fOVH7DQT"
      },
      "outputs": [],
      "source": [
        "%%time\n",
        "with strategy.scope():\n",
        "    transformer_layer = (\n",
        "        transformers.TFDistilBertModel\n",
        "        .from_pretrained('distilbert-base-multilingual-cased')\n",
        "    )\n",
        "    model = build_model(transformer_layer, max_len=MAX_LEN)\n",
        "model.summary()"
      ]
    },
    {
      "cell_type": "code",
      "execution_count": null,
      "metadata": {
        "id": "1SxNyTuX7Dnl"
      },
      "outputs": [],
      "source": [
        "n_steps = x_train.shape[0] // BATCH_SIZE\n",
        "train_history = model.fit(\n",
        "    train_dataset,\n",
        "    steps_per_epoch=n_steps,\n",
        "    validation_data=valid_dataset,\n",
        "    epochs=EPOCHS\n",
        ")"
      ]
    },
    {
      "cell_type": "code",
      "execution_count": null,
      "metadata": {
        "id": "Vvwu6Guk7Zz6"
      },
      "outputs": [],
      "source": [
        "n_steps = x_valid.shape[0] // BATCH_SIZE\n",
        "train_history_2 = model.fit(\n",
        "    valid_dataset.repeat(),\n",
        "    steps_per_epoch=n_steps,\n",
        "    epochs=EPOCHS*2\n",
        ")"
      ]
    },
    {
      "cell_type": "code",
      "execution_count": null,
      "metadata": {
        "id": "s3Dz0c_97k2V"
      },
      "outputs": [],
      "source": [
        "sub['toxic'] = model.predict(test_dataset, verbose=1)\n",
        "sub.to_csv('submission.csv', index=False)"
      ]
    }
  ],
  "metadata": {
    "colab": {
      "provenance": [],
      "mount_file_id": "17UwNjolmDpvB2_v66TCInCXrydQ6AIjj",
      "authorship_tag": "ABX9TyPdHwKipNIH/d42oNLDycKs",
      "include_colab_link": true
    },
    "kernelspec": {
      "display_name": "Python 3",
      "name": "python3"
    },
    "language_info": {
      "name": "python"
    }
  },
  "nbformat": 4,
  "nbformat_minor": 0
}